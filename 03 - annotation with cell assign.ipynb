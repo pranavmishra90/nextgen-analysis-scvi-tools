{
 "cells": [
  {
   "attachments": {},
   "cell_type": "markdown",
   "metadata": {},
   "source": [
    "## Cell Assign - Annotation of cell types\n",
    "\n",
    "taken from: https://docs.scvi-tools.org/en/stable/tutorials/notebooks/cellassign_tutorial.html\n",
    "\n",
    "Assigning single-cell RNA-seq data to known cell types\n",
    "\n",
    "CellAssign is a probabilistic model that uses prior knowledge of cell-type marker genes to annotate scRNA data into predefined cell types. Unlike other methods for assigning cell types, CellAssign does not require labeled single cell data and only needs to know whether or not each given gene is a marker of each cell type. The original paper and R code are linked below.\n",
    "\n",
    "Paper: Probabilistic cell-type assignment of single-cell RNA-seq for tumor microenvironment profiling, Nature Methods 2019\n",
    "\n",
    "Code: https://github.com/Irrationone/cellassign\n",
    "\n"
   ]
  },
  {
   "cell_type": "code",
   "execution_count": 1,
   "metadata": {},
   "outputs": [
    {
     "ename": "ModuleNotFoundError",
     "evalue": "No module named 'scvi_colab'",
     "output_type": "error",
     "traceback": [
      "\u001b[0;31m---------------------------------------------------------------------------\u001b[0m",
      "\u001b[0;31mModuleNotFoundError\u001b[0m                       Traceback (most recent call last)",
      "Cell \u001b[0;32mIn[1], line 1\u001b[0m\n\u001b[0;32m----> 1\u001b[0m \u001b[39mfrom\u001b[39;00m \u001b[39mscvi_colab\u001b[39;00m \u001b[39mimport\u001b[39;00m install\n\u001b[1;32m      3\u001b[0m install()\n",
      "\u001b[0;31mModuleNotFoundError\u001b[0m: No module named 'scvi_colab'"
     ]
    }
   ],
   "source": [
    "from scvi_colab import install\n",
    "\n",
    "install()"
   ]
  },
  {
   "cell_type": "code",
   "execution_count": 5,
   "metadata": {},
   "outputs": [],
   "source": [
    "import gdown\n",
    "import matplotlib.pyplot as plt\n",
    "import pandas as pd\n",
    "import scanpy as sc\n",
    "import scvi\n",
    "import seaborn as sns\n",
    "from scvi.external import CellAssign"
   ]
  },
  {
   "cell_type": "code",
   "execution_count": 6,
   "metadata": {},
   "outputs": [
    {
     "name": "stderr",
     "output_type": "stream",
     "text": [
      "Downloading...\n",
      "From: https://drive.google.com/uc?id=10l6m2KKKioCZnQlRHomheappHh-jTFmx\n",
      "To: /home/pranav/work/research-reference/nextgen-analysis/scvi-tools/annotation/sce_follicular_annotated_final.h5ad\n",
      "100%|██████████| 83.0M/83.0M [00:00<00:00, 805MB/s]\n",
      "Downloading...\n",
      "From (uriginal): https://drive.google.com/uc?id=1Pae7VEcoZbKRvtllGAEWG4SOLWSjjtCO\n",
      "From (redirected): https://drive.google.com/uc?id=1Pae7VEcoZbKRvtllGAEWG4SOLWSjjtCO&confirm=t&uuid=b349605f-94fc-47b3-ab7d-ae539f138718\n",
      "To: /home/pranav/work/research-reference/nextgen-analysis/scvi-tools/annotation/sce_hgsc_annotated_final.h5ad\n",
      "100%|██████████| 110M/110M [00:00<00:00, 859MB/s] \n",
      "Downloading...\n",
      "From: https://drive.google.com/uc?id=1Mk5uPdnPC4IMRnuG5N4uFvypT8hPdJ74\n",
      "To: /home/pranav/work/research-reference/nextgen-analysis/scvi-tools/annotation/HGSC_celltype.csv\n",
      "100%|██████████| 1.16k/1.16k [00:00<00:00, 3.70MB/s]\n",
      "Downloading...\n",
      "From: https://drive.google.com/uc?id=1tJSOI9ve0i78WmszMLx2ul8F8tGycBTd\n",
      "To: /home/pranav/work/research-reference/nextgen-analysis/scvi-tools/annotation/FL_celltype.csv\n",
      "100%|██████████| 446/446 [00:00<00:00, 1.10MB/s]\n"
     ]
    },
    {
     "data": {
      "text/plain": [
       "'./annotation/FL_celltype.csv'"
      ]
     },
     "execution_count": 6,
     "metadata": {},
     "output_type": "execute_result"
    }
   ],
   "source": [
    "url = \"https://drive.google.com/uc?id=10l6m2KKKioCZnQlRHomheappHh-jTFmx\"\n",
    "output = \"./annotation/sce_follicular_annotated_final.h5ad\"\n",
    "gdown.download(url, output, quiet=False)\n",
    "\n",
    "url = \"https://drive.google.com/uc?id=1Pae7VEcoZbKRvtllGAEWG4SOLWSjjtCO\"\n",
    "output = \"./annotation/sce_hgsc_annotated_final.h5ad\"\n",
    "gdown.download(url, output, quiet=False)\n",
    "\n",
    "url = \"https://drive.google.com/uc?id=1Mk5uPdnPC4IMRnuG5N4uFvypT8hPdJ74\"\n",
    "output = \"./annotation/HGSC_celltype.csv\"\n",
    "gdown.download(url, output, quiet=False)\n",
    "\n",
    "url = \"https://drive.google.com/uc?id=1tJSOI9ve0i78WmszMLx2ul8F8tGycBTd\"\n",
    "output = \"./annotation/FL_celltype.csv\"\n",
    "gdown.download(url, output, quiet=False)"
   ]
  },
  {
   "cell_type": "code",
   "execution_count": 8,
   "metadata": {},
   "outputs": [
    {
     "data": {
      "text/plain": [
       "'./annotation/FL_celltype.csv'"
      ]
     },
     "execution_count": 8,
     "metadata": {},
     "output_type": "execute_result"
    }
   ],
   "source": [
    "'./annotation/FL_celltype.csv'"
   ]
  },
  {
   "cell_type": "code",
   "execution_count": 9,
   "metadata": {},
   "outputs": [],
   "source": [
    "sc.set_figure_params(figsize=(4, 4))\n",
    "\n",
    "%config InlineBackend.print_figure_kwargs={'facecolor' : \"w\"}\n",
    "%config InlineBackend.figure_format='retina'"
   ]
  },
  {
   "attachments": {},
   "cell_type": "markdown",
   "metadata": {},
   "source": [
    "### Follicular lymphoma data"
   ]
  },
  {
   "cell_type": "code",
   "execution_count": 11,
   "metadata": {},
   "outputs": [
    {
     "name": "stderr",
     "output_type": "stream",
     "text": [
      "/home/pranav/mambaforge/lib/python3.10/site-packages/anndata/_core/anndata.py:1830: UserWarning: Observation names are not unique. To make them unique, call `.obs_names_make_unique`.\n",
      "  utils.warn_names_duplicates(\"obs\")\n",
      "/home/pranav/mambaforge/lib/python3.10/site-packages/anndata/_core/anndata.py:1832: UserWarning: Variable names are not unique. To make them unique, call `.var_names_make_unique`.\n",
      "  utils.warn_names_duplicates(\"var\")\n"
     ]
    },
    {
     "ename": "TypeError",
     "evalue": "Cannot setitem on a Categorical with a new category (FAM231C-1), set the categories first",
     "output_type": "error",
     "traceback": [
      "\u001b[0;31m---------------------------------------------------------------------------\u001b[0m",
      "\u001b[0;31mTypeError\u001b[0m                                 Traceback (most recent call last)",
      "Cell \u001b[0;32mIn[11], line 2\u001b[0m\n\u001b[1;32m      1\u001b[0m adata \u001b[39m=\u001b[39m sc\u001b[39m.\u001b[39mread(\u001b[39m\"\u001b[39m\u001b[39m./annotation/sce_follicular_annotated_final.h5ad\u001b[39m\u001b[39m\"\u001b[39m)\n\u001b[0;32m----> 2\u001b[0m adata\u001b[39m.\u001b[39;49mvar_names_make_unique()\n\u001b[1;32m      3\u001b[0m adata\u001b[39m.\u001b[39mobs_names_make_unique()\n",
      "File \u001b[0;32m~/mambaforge/lib/python3.10/site-packages/anndata/_core/anndata.py:1818\u001b[0m, in \u001b[0;36mAnnData.var_names_make_unique\u001b[0;34m(self, join)\u001b[0m\n\u001b[1;32m   1816\u001b[0m \u001b[39mdef\u001b[39;00m \u001b[39mvar_names_make_unique\u001b[39m(\u001b[39mself\u001b[39m, join: \u001b[39mstr\u001b[39m \u001b[39m=\u001b[39m \u001b[39m\"\u001b[39m\u001b[39m-\u001b[39m\u001b[39m\"\u001b[39m):\n\u001b[1;32m   1817\u001b[0m     \u001b[39m# Important to go through the setter so obsm dataframes are updated too\u001b[39;00m\n\u001b[0;32m-> 1818\u001b[0m     \u001b[39mself\u001b[39m\u001b[39m.\u001b[39mvar_names \u001b[39m=\u001b[39m utils\u001b[39m.\u001b[39;49mmake_index_unique(\u001b[39mself\u001b[39;49m\u001b[39m.\u001b[39;49mvar\u001b[39m.\u001b[39;49mindex, join)\n",
      "File \u001b[0;32m~/mambaforge/lib/python3.10/site-packages/anndata/utils.py:213\u001b[0m, in \u001b[0;36mmake_index_unique\u001b[0;34m(index, join)\u001b[0m\n\u001b[1;32m    211\u001b[0m \u001b[39mif\u001b[39;00m tentative_new_name \u001b[39mnot\u001b[39;00m \u001b[39min\u001b[39;00m values_set:\n\u001b[1;32m    212\u001b[0m     values_set\u001b[39m.\u001b[39madd(tentative_new_name)\n\u001b[0;32m--> 213\u001b[0m     values_dup[i] \u001b[39m=\u001b[39m tentative_new_name\n\u001b[1;32m    214\u001b[0m     \u001b[39mbreak\u001b[39;00m\n\u001b[1;32m    215\u001b[0m issue_interpretation_warning \u001b[39m=\u001b[39m \u001b[39mTrue\u001b[39;00m\n",
      "File \u001b[0;32m~/mambaforge/lib/python3.10/site-packages/pandas/core/arrays/_mixins.py:249\u001b[0m, in \u001b[0;36mNDArrayBackedExtensionArray.__setitem__\u001b[0;34m(self, key, value)\u001b[0m\n\u001b[1;32m    247\u001b[0m \u001b[39mdef\u001b[39;00m \u001b[39m__setitem__\u001b[39m(\u001b[39mself\u001b[39m, key, value) \u001b[39m-\u001b[39m\u001b[39m>\u001b[39m \u001b[39mNone\u001b[39;00m:\n\u001b[1;32m    248\u001b[0m     key \u001b[39m=\u001b[39m check_array_indexer(\u001b[39mself\u001b[39m, key)\n\u001b[0;32m--> 249\u001b[0m     value \u001b[39m=\u001b[39m \u001b[39mself\u001b[39;49m\u001b[39m.\u001b[39;49m_validate_setitem_value(value)\n\u001b[1;32m    250\u001b[0m     \u001b[39mself\u001b[39m\u001b[39m.\u001b[39m_ndarray[key] \u001b[39m=\u001b[39m value\n",
      "File \u001b[0;32m~/mambaforge/lib/python3.10/site-packages/pandas/core/arrays/categorical.py:1297\u001b[0m, in \u001b[0;36mCategorical._validate_setitem_value\u001b[0;34m(self, value)\u001b[0m\n\u001b[1;32m   1295\u001b[0m     \u001b[39mreturn\u001b[39;00m \u001b[39mself\u001b[39m\u001b[39m.\u001b[39m_validate_listlike(value)\n\u001b[1;32m   1296\u001b[0m \u001b[39melse\u001b[39;00m:\n\u001b[0;32m-> 1297\u001b[0m     \u001b[39mreturn\u001b[39;00m \u001b[39mself\u001b[39;49m\u001b[39m.\u001b[39;49m_validate_scalar(value)\n",
      "File \u001b[0;32m~/mambaforge/lib/python3.10/site-packages/pandas/core/arrays/categorical.py:1322\u001b[0m, in \u001b[0;36mCategorical._validate_scalar\u001b[0;34m(self, fill_value)\u001b[0m\n\u001b[1;32m   1320\u001b[0m     fill_value \u001b[39m=\u001b[39m \u001b[39mself\u001b[39m\u001b[39m.\u001b[39m_unbox_scalar(fill_value)\n\u001b[1;32m   1321\u001b[0m \u001b[39melse\u001b[39;00m:\n\u001b[0;32m-> 1322\u001b[0m     \u001b[39mraise\u001b[39;00m \u001b[39mTypeError\u001b[39;00m(\n\u001b[1;32m   1323\u001b[0m         \u001b[39m\"\u001b[39m\u001b[39mCannot setitem on a Categorical with a new \u001b[39m\u001b[39m\"\u001b[39m\n\u001b[1;32m   1324\u001b[0m         \u001b[39mf\u001b[39m\u001b[39m\"\u001b[39m\u001b[39mcategory (\u001b[39m\u001b[39m{\u001b[39;00mfill_value\u001b[39m}\u001b[39;00m\u001b[39m), set the categories first\u001b[39m\u001b[39m\"\u001b[39m\n\u001b[1;32m   1325\u001b[0m     ) \u001b[39mfrom\u001b[39;00m \u001b[39mNone\u001b[39;00m\n\u001b[1;32m   1326\u001b[0m \u001b[39mreturn\u001b[39;00m fill_value\n",
      "\u001b[0;31mTypeError\u001b[0m: Cannot setitem on a Categorical with a new category (FAM231C-1), set the categories first"
     ]
    }
   ],
   "source": [
    "adata = sc.read(\"./annotation/sce_follicular_annotated_final.h5ad\")\n",
    "adata.var_names_make_unique()\n",
    "adata.obs_names_make_unique()"
   ]
  },
  {
   "cell_type": "code",
   "execution_count": null,
   "metadata": {},
   "outputs": [],
   "source": [
    "marker_gene_mat = pd.read_csv(\"FL_celltype.csv\", index_col=0)"
   ]
  },
  {
   "attachments": {},
   "cell_type": "markdown",
   "metadata": {},
   "source": [
    "#### Create and fit CellAssign model"
   ]
  },
  {
   "cell_type": "code",
   "execution_count": null,
   "metadata": {},
   "outputs": [],
   "source": [
    "bdata = adata[:, marker_gene_mat.index].copy()"
   ]
  },
  {
   "cell_type": "code",
   "execution_count": null,
   "metadata": {},
   "outputs": [],
   "source": []
  },
  {
   "cell_type": "code",
   "execution_count": null,
   "metadata": {},
   "outputs": [],
   "source": []
  },
  {
   "cell_type": "code",
   "execution_count": null,
   "metadata": {},
   "outputs": [],
   "source": []
  }
 ],
 "metadata": {
  "kernelspec": {
   "display_name": "base",
   "language": "python",
   "name": "python3"
  },
  "language_info": {
   "codemirror_mode": {
    "name": "ipython",
    "version": 3
   },
   "file_extension": ".py",
   "mimetype": "text/x-python",
   "name": "python",
   "nbconvert_exporter": "python",
   "pygments_lexer": "ipython3",
   "version": "3.10.10"
  },
  "orig_nbformat": 4
 },
 "nbformat": 4,
 "nbformat_minor": 2
}
